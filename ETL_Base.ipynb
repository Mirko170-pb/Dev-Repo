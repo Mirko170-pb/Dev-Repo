{
 "cells": [
  {
   "cell_type": "markdown",
   "id": "f724133f-33a1-42e1-bfaa-8e98b3cfb0b6",
   "metadata": {},
   "source": [
    "Python fundamentals for Data Engineering : First \"Extract Transform Load\" Pipeline"
   ]
  },
  {
   "cell_type": "code",
   "execution_count": 1,
   "id": "2459c6ce-dc55-4b09-bbc1-08528f6fb2e2",
   "metadata": {},
   "outputs": [],
   "source": [
    "import requests\n",
    "import pandas as pd\n",
    "from sqlalchemy import create_engine"
   ]
  },
  {
   "cell_type": "code",
   "execution_count": 2,
   "id": "b0850852-83ae-4f8c-83b9-3614cde2f928",
   "metadata": {},
   "outputs": [],
   "source": [
    "def extract()-> dict:\n",
    "    \"\"\" This API extract data from\n",
    "    http://universities.hipolabs.com\n",
    "    \"\"\"\n",
    "    API_URL = \"http://universities.hipolabs.com/search?country=United+States\"\n",
    "    data = request.get(API_URL).json()\n",
    "    return data"
   ]
  },
  {
   "cell_type": "code",
   "execution_count": 3,
   "id": "b6fba2f8-8df9-4a0c-b096-b22db5107cb3",
   "metadata": {},
   "outputs": [],
   "source": [
    "def transform(data:dict) -> pd.DataFrame:\n",
    "    \"\"\"Transforms the dataset into desired structure and filters\"\"\"\n",
    "    df = pd.DataFrame(data)\n",
    "    print(f\"Total Number of universities from API{len(data)}\")\n",
    "    df = df[df[\"name\"].str.contains(\"California\")]\n",
    "    print(f\"Number of universities in California{len(df)}\")\n",
    "    df['domains'] = [','.join(map(str,l)) for l in df['domains']]\n",
    "    df['web_pages'] = [','.join(map(str,l)) for l in df['web_pages']]\n",
    "    df = df.reset_index(drop=True)\n",
    "    return df[[\"domains\",\"country\",\"web_pages\",\"name\"]]"
   ]
  },
  {
   "cell_type": "code",
   "execution_count": 4,
   "id": "065bce3b-43db-41f8-a618-3b47fa810485",
   "metadata": {},
   "outputs": [],
   "source": [
    "def load(df:pd.DataFrame)-> None:\n",
    "    \"\"\"Load data into a sqllite database\"\"\"\n",
    "    disk_engine = create_engine('sqlite://my_lite_store.db')\n",
    "    df.to_sql('cal_uni', disk_engine, if_exists='replace')"
   ]
  },
  {
   "cell_type": "code",
   "execution_count": 5,
   "id": "56745c0b-9e43-4980-860e-cf0f907ed39a",
   "metadata": {},
   "outputs": [
    {
     "name": "stdout",
     "output_type": "stream",
     "text": [
      "nameTESTcountry\n"
     ]
    }
   ],
   "source": [
    "myDict = {\"name\":\"John\",\n",
    "         \"country\":\"Norway\"}\n",
    "mySeparator = \"TEST\"\n",
    "\n",
    "x = mySeparator.join(myDict)\n",
    "print(x)"
   ]
  },
  {
   "cell_type": "code",
   "execution_count": null,
   "id": "ddd1fbbf-b345-4948-93b6-8b54707dd1ef",
   "metadata": {},
   "outputs": [],
   "source": []
  }
 ],
 "metadata": {
  "kernelspec": {
   "display_name": "Python 3 (ipykernel)",
   "language": "python",
   "name": "python3"
  },
  "language_info": {
   "codemirror_mode": {
    "name": "ipython",
    "version": 3
   },
   "file_extension": ".py",
   "mimetype": "text/x-python",
   "name": "python",
   "nbconvert_exporter": "python",
   "pygments_lexer": "ipython3",
   "version": "3.12.4"
  }
 },
 "nbformat": 4,
 "nbformat_minor": 5
}
